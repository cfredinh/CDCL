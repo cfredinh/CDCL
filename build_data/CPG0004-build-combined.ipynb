{
 "cells": [
  {
   "cell_type": "code",
   "execution_count": null,
   "id": "3a42a46f",
   "metadata": {},
   "outputs": [],
   "source": [
    "import io\n",
    "import pandas as pd\n",
    "import numpy as np\n",
    "\n",
    "import plotly.express as px\n",
    "import plotly.io as pio\n",
    "\n",
    "pio.renderers.default = \"notebook_connected\"  # Set to \"svg\" or \"png\" for static plots or \"notebook_connected\" for interactive plots"
   ]
  },
  {
   "cell_type": "code",
   "execution_count": null,
   "id": "a01da138",
   "metadata": {},
   "outputs": [],
   "source": [
    "import skimage\n",
    "from skimage.util import view_as_blocks, view_as_windows\n",
    "import matplotlib.pyplot as plt\n",
    "import matplotlib.image as mpimg"
   ]
  },
  {
   "cell_type": "code",
   "execution_count": null,
   "id": "9a4e47f3",
   "metadata": {},
   "outputs": [],
   "source": [
    "\n",
    "import os\n",
    "\n",
    "from itertools import chain\n",
    "\n",
    "base_dir_full_imgs  = \"/storage/user/datasets/large-Cell-Painting-Dataset-IMAGE-DATA/CPG0004-large/\""
   ]
  },
  {
   "cell_type": "code",
   "execution_count": null,
   "id": "a9bd2863",
   "metadata": {},
   "outputs": [],
   "source": [
    "top_moa = pd.read_csv(\"/storage/user/datasets/large-Cell-Painting-Dataset/datasets/CPG0004/enriched_index.csv\")\n"
   ]
  },
  {
   "cell_type": "code",
   "execution_count": null,
   "id": "2f98ff28",
   "metadata": {},
   "outputs": [],
   "source": [
    "top_moa.head()"
   ]
  },
  {
   "cell_type": "code",
   "execution_count": null,
   "id": "f769181d",
   "metadata": {},
   "outputs": [],
   "source": [
    "files_full_imgs = [x for x in os.listdir(base_dir_full_imgs) if (\"SQ\" in x)]"
   ]
  },
  {
   "cell_type": "code",
   "execution_count": null,
   "id": "8ad13044",
   "metadata": {},
   "outputs": [],
   "source": [
    "unique_wells = [[str(y)+\"-\"+x[:6] for x in os.listdir(base_dir_full_imgs+y)] for y in files_full_imgs]"
   ]
  },
  {
   "cell_type": "code",
   "execution_count": null,
   "id": "9e432788",
   "metadata": {},
   "outputs": [],
   "source": [
    "len(unique_wells)"
   ]
  },
  {
   "cell_type": "code",
   "execution_count": null,
   "id": "a4ecefbe",
   "metadata": {},
   "outputs": [],
   "source": [
    "list_of_sets_of_wells = [set(x) for x in unique_wells]\n",
    "\n",
    "full_set_of_wells_full_img = set(set(chain.from_iterable(list_of_sets_of_wells)))\n"
   ]
  },
  {
   "cell_type": "code",
   "execution_count": null,
   "id": "4d5b51ab",
   "metadata": {},
   "outputs": [],
   "source": [
    "unique_wells = [[str(y)+\"/\"+x for x in os.listdir(base_dir_full_imgs+y)] for y in files_full_imgs]"
   ]
  },
  {
   "cell_type": "code",
   "execution_count": null,
   "id": "b3b8f6cb",
   "metadata": {},
   "outputs": [],
   "source": [
    "def calc_mean(paths = \"example_images/1583@115x445.png\", base_dir_full_imgs  = \"/storage/user/datasets/large-Cell-Painting-Dataset-IMAGE-DATA/CPG0004/\"):\n",
    "    \n",
    "    full = np.zeros((5,1080,1080))\n",
    "    \n",
    "    for i, path in enumerate(paths):\n",
    "        full[i,:,:] = skimage.io.imread(base_dir_full_imgs+path)\n",
    "\n",
    "    return np.append(full.mean(axis=(1,2)), full.std(axis=(1,2)))"
   ]
  },
  {
   "cell_type": "code",
   "execution_count": null,
   "id": "9179763f",
   "metadata": {},
   "outputs": [],
   "source": [
    "top_moa"
   ]
  },
  {
   "cell_type": "code",
   "execution_count": null,
   "id": "cc0cd3d0",
   "metadata": {},
   "outputs": [],
   "source": [
    "top_moa.Metadata_broad_sample.nunique()"
   ]
  },
  {
   "cell_type": "code",
   "execution_count": null,
   "id": "77db001a",
   "metadata": {},
   "outputs": [],
   "source": [
    "top_moa.Treatment.nunique()"
   ]
  },
  {
   "cell_type": "code",
   "execution_count": null,
   "id": "cb8f9bca",
   "metadata": {},
   "outputs": [],
   "source": [
    "top_moa.Treatment.value_counts()"
   ]
  },
  {
   "cell_type": "code",
   "execution_count": null,
   "id": "313670fe",
   "metadata": {},
   "outputs": [],
   "source": [
    "a = top_moa.drop_duplicates([\"Metadata_Plate\",\"Metadata_Well\"]).Treatment.value_counts()"
   ]
  },
  {
   "cell_type": "code",
   "execution_count": null,
   "id": "b80338c4",
   "metadata": {},
   "outputs": [],
   "source": [
    "b = top_moa.groupby(\"Metadata_Plate\").Split.value_counts()"
   ]
  },
  {
   "cell_type": "code",
   "execution_count": null,
   "id": "04f17297",
   "metadata": {},
   "outputs": [],
   "source": [
    "top_moa.drop_duplicates([\"Plate_Map_Name\", \"Metadata_Plate\"]).Plate_Map_Name.value_counts()"
   ]
  },
  {
   "cell_type": "code",
   "execution_count": null,
   "id": "e2634958",
   "metadata": {},
   "outputs": [],
   "source": [
    "top_moa_plate_replicate = top_moa.groupby(\"Metadata_Plate\").Treatment_Replicate.median()"
   ]
  },
  {
   "cell_type": "code",
   "execution_count": null,
   "id": "2a8a1d6a",
   "metadata": {},
   "outputs": [],
   "source": [
    "training_plates = top_moa_plate_replicate[top_moa_plate_replicate <  4].index\n",
    "val_plates      = top_moa_plate_replicate[top_moa_plate_replicate == 4].index\n",
    "test_plates     = top_moa_plate_replicate[top_moa_plate_replicate == 5].index"
   ]
  },
  {
   "cell_type": "code",
   "execution_count": null,
   "id": "727d451c",
   "metadata": {},
   "outputs": [],
   "source": [
    "top_moa.loc[top_moa.Metadata_Plate.isin(training_plates), \"Split\"] = \"Training\"\n",
    "top_moa.loc[top_moa.Metadata_Plate.isin(val_plates),      \"Split\"] = \"Validation\"\n",
    "top_moa.loc[top_moa.Metadata_Plate.isin(test_plates),     \"Split\"] = \"Test\""
   ]
  },
  {
   "cell_type": "code",
   "execution_count": null,
   "id": "24e7c35a",
   "metadata": {},
   "outputs": [],
   "source": [
    "top_moa.Split.value_counts()"
   ]
  },
  {
   "cell_type": "code",
   "execution_count": null,
   "id": "94108a74",
   "metadata": {},
   "outputs": [],
   "source": [
    "top_moa.Metadata_broad_sample.nunique()"
   ]
  },
  {
   "cell_type": "code",
   "execution_count": null,
   "id": "69121998",
   "metadata": {},
   "outputs": [],
   "source": [
    "top_moa[\"Metadata_broad_sample_ID\"] = top_moa.groupby([\"Metadata_broad_sample\"]).ngroup()"
   ]
  },
  {
   "cell_type": "code",
   "execution_count": null,
   "id": "7a73b9ae",
   "metadata": {},
   "outputs": [],
   "source": [
    "top_moa[\"Metadata_moa_ID\"]          = top_moa.groupby([\"Metadata_moa\"]         ).ngroup()"
   ]
  },
  {
   "cell_type": "code",
   "execution_count": null,
   "id": "cebd023d",
   "metadata": {},
   "outputs": [],
   "source": [
    "top_moa[\"Metadata_Plate_ID\"]        = top_moa.groupby([\"Metadata_Plate\"]       ).ngroup()"
   ]
  },
  {
   "cell_type": "code",
   "execution_count": null,
   "id": "0b0fc4cd",
   "metadata": {},
   "outputs": [],
   "source": [
    "top_moa[\"replicate_ID\"] = top_moa.Metadata_Plate.map(top_moa_plate_replicate.to_dict())"
   ]
  },
  {
   "cell_type": "code",
   "execution_count": null,
   "id": "d340cd93",
   "metadata": {},
   "outputs": [],
   "source": [
    "top_moa[\"combined_paths\"] = list(zip(top_moa.DNA, top_moa.ER, top_moa.RNA, top_moa.AGP, top_moa.Mito))"
   ]
  },
  {
   "cell_type": "code",
   "execution_count": null,
   "id": "ca479b5e",
   "metadata": {},
   "outputs": [],
   "source": [
    "top_moa[\"Unique_well\"] = top_moa[\"Metadata_Plate\"] + \"-\" + top_moa[\"Metadata_Well\"]"
   ]
  },
  {
   "cell_type": "code",
   "execution_count": null,
   "id": "103dc257",
   "metadata": {},
   "outputs": [],
   "source": [
    "def map_path(DNA,ER,RNA,AGP,Mito):\n",
    "    return DNA.replace(\".tiff\",\".png\")+\",\"+ER.replace(\".tiff\",\".png\")+\",\"+RNA.replace(\".tiff\",\".png\")+\",\"+AGP.replace(\".tiff\",\".png\")+\",\"+Mito.replace(\".tiff\",\".png\")"
   ]
  },
  {
   "cell_type": "code",
   "execution_count": null,
   "id": "689428d2",
   "metadata": {
    "scrolled": true
   },
   "outputs": [],
   "source": [
    "\n",
    "top_moa[\"combined_paths\"] = top_moa[[\"DNA\", \"ER\", \"RNA\", \"AGP\", \"Mito\"]].apply(lambda x: map_path(x[0], x[1], x[2], x[3], x[4], ), axis=1)\n",
    "\n"
   ]
  },
  {
   "cell_type": "code",
   "execution_count": null,
   "id": "aa768737",
   "metadata": {},
   "outputs": [],
   "source": [
    "top_moa.Treatment_ID.nunique()"
   ]
  },
  {
   "cell_type": "code",
   "execution_count": null,
   "id": "4af7277f",
   "metadata": {},
   "outputs": [],
   "source": [
    "top_moa.shape"
   ]
  },
  {
   "cell_type": "code",
   "execution_count": null,
   "id": "421072c5",
   "metadata": {},
   "outputs": [],
   "source": [
    "top_moa = top_moa[~top_moa.RNA.str.contains(\"SQ00015168/r10c07f05p01-ch3sk1fk1fl1\")] # Drop row with missing image"
   ]
  },
  {
   "cell_type": "code",
   "execution_count": null,
   "id": "062ac4fd",
   "metadata": {},
   "outputs": [],
   "source": [
    "top_moa.to_csv(\"/storage/user/datasets/large-Cell-Painting-Dataset/datasets/CPG0004/full_set_training_large_.csv\")"
   ]
  },
  {
   "cell_type": "code",
   "execution_count": null,
   "id": "3a42a46f",
   "metadata": {},
   "outputs": [],
   "source": [
    "import io\n",
    "\n",
    "import plotly.express as px\n",
    "import plotly.io as pio\n",
    "\n",
    "pio.renderers.default = \"notebook_connected\"  # Set to \"svg\" or \"png\" for static plots or \"notebook_connected\" for interactive plots"
   ]
  },
  {
   "cell_type": "code",
   "execution_count": null,
   "id": "a01da138",
   "metadata": {},
   "outputs": [],
   "source": [
    "import skimage\n",
    "from skimage.util import view_as_blocks, view_as_windows\n",
    "import matplotlib.pyplot as plt\n",
    "import matplotlib.image as mpimg"
   ]
  },
  {
   "cell_type": "code",
   "execution_count": null,
   "id": "9a4e47f3",
   "metadata": {},
   "outputs": [],
   "source": [
    "\n",
    "\n",
    "\n",
    "import numpy as np\n",
    "\n",
    "import os\n",
    "\n",
    "from itertools import chain\n",
    "\n",
    "base_dir_full_imgs  = \"/storage/user/datasets/large-Cell-Painting-Dataset-IMAGE-DATA/CPG0004/\""
   ]
  },
  {
   "cell_type": "code",
   "execution_count": null,
   "id": "a9bd2863",
   "metadata": {},
   "outputs": [],
   "source": [
    "top_moa = pd.read_csv(\"/storage/user/datasets/large-Cell-Painting-Dataset/datasets/CPG0004/top20_moa.csv\")"
   ]
  },
  {
   "cell_type": "code",
   "execution_count": null,
   "id": "f769181d",
   "metadata": {},
   "outputs": [],
   "source": [
    "files_full_imgs = [x for x in os.listdir(base_dir_full_imgs) if (\"SQ\" in x)]"
   ]
  },
  {
   "cell_type": "code",
   "execution_count": null,
   "id": "8ad13044",
   "metadata": {},
   "outputs": [],
   "source": [
    "unique_wells = [[str(y)+\"-\"+x[:6] for x in os.listdir(base_dir_full_imgs+y)] for y in files_full_imgs]"
   ]
  },
  {
   "cell_type": "code",
   "execution_count": null,
   "id": "4d5b51ab",
   "metadata": {},
   "outputs": [],
   "source": [
    "unique_wells = [[str(y)+\"/\"+x for x in os.listdir(base_dir_full_imgs+y)] for y in files_full_imgs]"
   ]
  },
  {
   "cell_type": "code",
   "execution_count": null,
   "id": "df993bf2",
   "metadata": {},
   "outputs": [],
   "source": [
    "def show_image(paths = \"example_images/1583@115x445.png\", base_dir_full_imgs  = \"/storage/user/datasets/large-Cell-Painting-Dataset-IMAGE-DATA/CPG0004/\"):\n",
    "    \n",
    "    full = np.zeros((5,1080,1080))\n",
    "    \n",
    "    for i, path in enumerate(paths):\n",
    "        full[i,:,:] = skimage.io.imread(base_dir_full_imgs+path)\n",
    "\n",
    "    plt.figure(figsize=(10,10))\n",
    "    plt.imshow(full[2:5,:,:].transpose()/255.0)\n",
    "    plt.show()"
   ]
  },
  {
   "cell_type": "code",
   "execution_count": null,
   "id": "b3b8f6cb",
   "metadata": {},
   "outputs": [],
   "source": [
    "def calc_mean(paths = \"example_images/1583@115x445.png\", base_dir_full_imgs  = \"/storage/user/datasets/large-Cell-Painting-Dataset-IMAGE-DATA/CPG0004/\"):\n",
    "    \n",
    "    full = np.zeros((5,1080,1080))\n",
    "    \n",
    "    for i, path in enumerate(paths):\n",
    "        full[i,:,:] = skimage.io.imread(base_dir_full_imgs+path)\n",
    "\n",
    "    return np.append(full.mean(axis=(1,2)), full.std(axis=(1,2)))"
   ]
  },
  {
   "cell_type": "code",
   "execution_count": null,
   "id": "9179763f",
   "metadata": {},
   "outputs": [],
   "source": [
    "top_moa"
   ]
  },
  {
   "cell_type": "code",
   "execution_count": null,
   "id": "dad52209",
   "metadata": {},
   "outputs": [],
   "source": [
    "top_moa[[\"DNA_mean\", \"ER_mean\", \"RNA_mean\", \"AGP_mean\", \"Mito_mean\",\n",
    "         \"DNA_std\", \"ER_std\", \"RNA_std\", \"AGP_std\", \"Mito_std\"]] = 0.0"
   ]
  },
  {
   "cell_type": "code",
   "execution_count": null,
   "id": "e5326c77",
   "metadata": {},
   "outputs": [],
   "source": [
    "top_moa.iloc[0][[\"DNA_mean\", \"ER_mean\", \"RNA_mean\", \"AGP_mean\", \"Mito_mean\",\n",
    "                \"DNA_std\", \"ER_std\", \"RNA_std\", \"AGP_std\", \"Mito_std\"]]"
   ]
  },
  {
   "cell_type": "code",
   "execution_count": null,
   "id": "009f3b00",
   "metadata": {
    "scrolled": true
   },
   "outputs": [],
   "source": [
    "for i, row in enumerate(top_moa.iterrows()):\n",
    "    paths = list(row[1][[\"DNA\", \"ER\", \"RNA\", \"AGP\", \"Mito\"]].values)\n",
    "    #show_image(paths)\n",
    "    top_moa.loc[row[0], [\"DNA_mean\", \"ER_mean\", \"RNA_mean\", \"AGP_mean\", \"Mito_mean\",\n",
    "                \"DNA_std\", \"ER_std\", \"RNA_std\", \"AGP_std\", \"Mito_std\"]] = (calc_mean(paths))\n",
    "    \n",
    "    if i % 50  == 0 and i != 0:\n",
    "        print(row[1].Metadata_moa)\n",
    "        print(row[0])\n",
    "\n",
    "    if i % 1000 == 0 and i != 0:\n",
    "        print(row[1].Metadata_moa)\n",
    "        print(row[0])\n"
   ]
  },
  {
   "cell_type": "code",
   "execution_count": null,
   "id": "9258fc52",
   "metadata": {},
   "outputs": [],
   "source": [
    "top_moa"
   ]
  },
  {
   "cell_type": "code",
   "execution_count": null,
   "id": "64e2a0bf",
   "metadata": {},
   "outputs": [],
   "source": [
    "stats_columns = [\"DNA_mean\", \"ER_mean\", \"RNA_mean\", \"AGP_mean\", \"Mito_mean\", \"DNA_std\", \"ER_std\", \"RNA_std\", \"AGP_std\", \"Mito_std\"]"
   ]
  },
  {
   "cell_type": "code",
   "execution_count": null,
   "id": "ec534ba6",
   "metadata": {},
   "outputs": [],
   "source": [
    "mean_data = top_moa.groupby(\"Metadata_Plate\")[stats_columns].mean()"
   ]
  },
  {
   "cell_type": "code",
   "execution_count": null,
   "id": "960b0a30",
   "metadata": {},
   "outputs": [],
   "source": [
    "mean_data"
   ]
  },
  {
   "cell_type": "code",
   "execution_count": null,
   "id": "998d506d",
   "metadata": {},
   "outputs": [],
   "source": [
    "mean_data.to_csv(\"/storage/user/datasets/large-Cell-Painting-Dataset/datasets/CPG0004/top20_moa_plate_norms.csv\")"
   ]
  },
  {
   "cell_type": "code",
   "execution_count": null,
   "id": "67180c08",
   "metadata": {},
   "outputs": [],
   "source": [
    "mean_data.mean().values"
   ]
  },
  {
   "cell_type": "code",
   "execution_count": null,
   "id": "94108a74",
   "metadata": {},
   "outputs": [],
   "source": [
    "top_moa.Metadata_broad_sample.nunique()"
   ]
  },
  {
   "cell_type": "code",
   "execution_count": null,
   "id": "69121998",
   "metadata": {},
   "outputs": [],
   "source": [
    "top_moa[\"Metadata_broad_sample_ID\"] = top_moa.groupby([\"Metadata_broad_sample\"]).ngroup()"
   ]
  },
  {
   "cell_type": "code",
   "execution_count": null,
   "id": "7a73b9ae",
   "metadata": {},
   "outputs": [],
   "source": [
    "top_moa[\"Metadata_moa_ID\"]          = top_moa.groupby([\"Metadata_moa\"]         ).ngroup()"
   ]
  },
  {
   "cell_type": "code",
   "execution_count": null,
   "id": "cebd023d",
   "metadata": {},
   "outputs": [],
   "source": [
    "top_moa[\"Metadata_Plate_ID\"]        = top_moa.groupby([\"Metadata_Plate\"]       ).ngroup()"
   ]
  },
  {
   "cell_type": "code",
   "execution_count": null,
   "id": "d340cd93",
   "metadata": {},
   "outputs": [],
   "source": [
    "top_moa[\"combined_paths\"] = list(zip(top_moa.DNA, top_moa.ER, top_moa.RNA, top_moa.AGP, top_moa.Mito))"
   ]
  },
  {
   "cell_type": "code",
   "execution_count": null,
   "id": "21b5d0c0",
   "metadata": {},
   "outputs": [],
   "source": [
    "plate_splitting.head()"
   ]
  },
  {
   "cell_type": "code",
   "execution_count": null,
   "id": "109b56e0",
   "metadata": {},
   "outputs": [],
   "source": [
    "plate_split_maping = {plate: split for plate, split in zip(plate_splitting.Metadata_Plate, plate_splitting.LeaveReplicatesOut) }"
   ]
  },
  {
   "cell_type": "code",
   "execution_count": null,
   "id": "85390bf9",
   "metadata": {},
   "outputs": [],
   "source": [
    "top_moa[\"TT_split\"] = top_moa.Metadata_Plate.map(plate_split_maping)"
   ]
  },
  {
   "cell_type": "code",
   "execution_count": null,
   "id": "588c2367",
   "metadata": {},
   "outputs": [],
   "source": [
    "top_moa"
   ]
  },
  {
   "cell_type": "code",
   "execution_count": null,
   "id": "dc1bb63d",
   "metadata": {},
   "outputs": [],
   "source": [
    "top_moa[top_moa.TT_split == \"Training\"]"
   ]
  },
  {
   "cell_type": "code",
   "execution_count": null,
   "id": "ca479b5e",
   "metadata": {},
   "outputs": [],
   "source": [
    "top_moa[\"Unique_well\"] = top_moa[\"Metadata_Plate\"] + \"-\" + top_moa[\"Metadata_Well\"]"
   ]
  },
  {
   "cell_type": "code",
   "execution_count": null,
   "id": "7b366710",
   "metadata": {},
   "outputs": [],
   "source": [
    "top_moa[\"TV_split\"] = top_moa[\"TT_split\"]"
   ]
  },
  {
   "cell_type": "code",
   "execution_count": null,
   "id": "05d582a8",
   "metadata": {},
   "outputs": [],
   "source": [
    "top_moa[top_moa.TT_split == \"Training\"][\"TV_split\"] "
   ]
  },
  {
   "cell_type": "code",
   "execution_count": null,
   "id": "78f83206",
   "metadata": {},
   "outputs": [],
   "source": [
    "top_moa[\"Unique_well\"].unique()"
   ]
  },
  {
   "cell_type": "code",
   "execution_count": null,
   "id": "88660690",
   "metadata": {},
   "outputs": [],
   "source": [
    "translation_dict = {well: split_assigned for well, split_assigned in zip(top_moa[top_moa.TT_split == \"Training\"][\"Unique_well\"].unique(),\n",
    "    np.random.choice(['Training','Validation'], \n",
    "                     size=len(top_moa[top_moa.TT_split == \"Training\"][\"Unique_well\"].unique()),\n",
    "                     p = [0.85, 0.15]))}\n",
    "\n",
    "translation_dict_train = {well: split_assigned for well, split_assigned in zip(top_moa[top_moa.TT_split != \"Training\"][\"Unique_well\"].unique(),\n",
    "    np.random.choice(['Training'], \n",
    "                     size=len(top_moa[top_moa.TT_split != \"Training\"][\"Unique_well\"].unique()),\n",
    "                     p = [1.0]))}"
   ]
  },
  {
   "cell_type": "code",
   "execution_count": null,
   "id": "4050ce2c",
   "metadata": {},
   "outputs": [],
   "source": [
    "comb_trans = {**translation_dict,**translation_dict_train}"
   ]
  },
  {
   "cell_type": "code",
   "execution_count": null,
   "id": "7c6e2e8b",
   "metadata": {},
   "outputs": [],
   "source": [
    "top_moa[\"TV_split\"] = top_moa[\"Unique_well\"].map(comb_trans)"
   ]
  },
  {
   "cell_type": "code",
   "execution_count": null,
   "id": "4537f7fb",
   "metadata": {},
   "outputs": [],
   "source": [
    "top_moa"
   ]
  },
  {
   "cell_type": "code",
   "execution_count": null,
   "id": "09ae85e7",
   "metadata": {},
   "outputs": [],
   "source": [
    "def mappp(test_or_train, train_or_val):\n",
    "    if (test_or_train == train_or_val) and (test_or_train == \"Training\"):\n",
    "        return \"train\"\n",
    "    if test_or_train == \"Validation\":\n",
    "        return \"test\"\n",
    "    if train_or_val  == \"Validation\":\n",
    "        return \"val\""
   ]
  },
  {
   "cell_type": "code",
   "execution_count": null,
   "id": "c8e2393d",
   "metadata": {},
   "outputs": [],
   "source": [
    "top_moa[\"TTV_split\"] = top_moa[[\"TT_split\", \"TV_split\"]].apply(lambda x: mappp(x[0], x[1]), axis=1)"
   ]
  },
  {
   "cell_type": "code",
   "execution_count": null,
   "id": "d3006125",
   "metadata": {},
   "outputs": [],
   "source": [
    "top_moa[[\"TT_split\", \"TV_split\"]]"
   ]
  },
  {
   "cell_type": "code",
   "execution_count": null,
   "id": "062ac4fd",
   "metadata": {},
   "outputs": [],
   "source": [
    "top_moa.to_csv(\"/storage/user/datasets/large-Cell-Painting-Dataset/datasets/CPG0004/top20_moa_with_norm.csv\")"
   ]
  },
  {
   "cell_type": "code",
   "execution_count": null,
   "id": "9c20c1f8",
   "metadata": {},
   "outputs": [],
   "source": [
    "def map_path(DNA,ER,RNA,AGP,Mito):\n",
    "    return DNA+\",\"+ER+\",\"+RNA+\",\"+AGP+\",\"+Mito"
   ]
  },
  {
   "cell_type": "code",
   "execution_count": null,
   "id": "277bb7a4",
   "metadata": {},
   "outputs": [],
   "source": [
    "\n",
    "top_moa[\"combined_paths\"] = top_moa[[\"DNA\", \"ER\", \"RNA\", \"AGP\", \"Mito\"]].apply(lambda x: map_path(x[0], x[1], x[2], x[3], x[4], ), axis=1)"
   ]
  },
  {
   "cell_type": "code",
   "execution_count": null,
   "metadata": {},
   "outputs": [],
   "source": [
    "import numpy as np\n",
    "import pandas as pd"
   ]
  },
  {
   "cell_type": "code",
   "execution_count": null,
   "metadata": {},
   "outputs": [],
   "source": [
    "path = \"/storage/user/datasets/large-Cell-Painting-Dataset/datasets/CPG0004/top20_moa_with_norm.csv\""
   ]
  },
  {
   "cell_type": "code",
   "execution_count": null,
   "metadata": {},
   "outputs": [],
   "source": [
    "df = pd.read_csv(path, index_col=0, engine='python')"
   ]
  },
  {
   "cell_type": "code",
   "execution_count": null,
   "metadata": {},
   "outputs": [],
   "source": [
    "df"
   ]
  },
  {
   "cell_type": "code",
   "execution_count": null,
   "metadata": {},
   "outputs": [],
   "source": [
    "replicate_df = pd.DataFrame([[0,1],[0,2],[0,3],[0,4]], columns=[[\"dummy_var\",\"crop_region\"]])"
   ]
  },
  {
   "cell_type": "code",
   "execution_count": null,
   "metadata": {},
   "outputs": [],
   "source": [
    "replicate_df"
   ]
  },
  {
   "cell_type": "code",
   "execution_count": null,
   "metadata": {},
   "outputs": [],
   "source": [
    "combined = []\n",
    "\n",
    "for d in [1,2,3,4]:\n",
    "    df[\"crop_site\"] = d\n",
    "    combined.append(df.copy())"
   ]
  },
  {
   "cell_type": "code",
   "execution_count": null,
   "metadata": {},
   "outputs": [],
   "source": [
    "comb = pd.concat(combined)"
   ]
  },
  {
   "cell_type": "code",
   "execution_count": null,
   "metadata": {},
   "outputs": [],
   "source": [
    "comb.crop_site.unique()"
   ]
  },
  {
   "cell_type": "code",
   "execution_count": null,
   "metadata": {},
   "outputs": [],
   "source": [
    "def map_crop_site(path, crop_site):\n",
    "    return path[:-4] + \"_\" + str(crop_site) + path[-4:]\n",
    "    "
   ]
  },
  {
   "cell_type": "code",
   "execution_count": null,
   "metadata": {},
   "outputs": [],
   "source": [
    "for col in [\"DNA\", \"ER\", \"RNA\", \"AGP\", \"Mito\"]:\n",
    "    comb[col] = (comb[[col, \"crop_site\"]].apply(lambda x: map_crop_site(x[0], x[1]), axis=1))\n",
    "    "
   ]
  },
  {
   "cell_type": "code",
   "execution_count": null,
   "metadata": {},
   "outputs": [],
   "source": [
    "def map_path(DNA,ER,RNA,AGP,Mito):\n",
    "    return DNA+\",\"+ER+\",\"+RNA+\",\"+AGP+\",\"+Mito"
   ]
  },
  {
   "cell_type": "code",
   "execution_count": null,
   "metadata": {},
   "outputs": [],
   "source": [
    "\n",
    "comb[\"combined_paths\"] = comb[[\"DNA\", \"ER\", \"RNA\", \"AGP\", \"Mito\"]].apply(lambda x: map_path(x[0], x[1], x[2], x[3], x[4], ), axis=1)"
   ]
  },
  {
   "cell_type": "code",
   "execution_count": null,
   "metadata": {},
   "outputs": [],
   "source": []
  },
  {
   "cell_type": "code",
   "execution_count": null,
   "metadata": {},
   "outputs": [],
   "source": [
    "comb"
   ]
  },
  {
   "cell_type": "code",
   "execution_count": null,
   "metadata": {},
   "outputs": [],
   "source": [
    "comb.to_csv(\"/storage/user/datasets/large-Cell-Painting-Dataset/datasets/CPG0004/top20_moa_with_norm_cropped.csv\")"
   ]
  },
  {
   "cell_type": "code",
   "execution_count": null,
   "metadata": {},
   "outputs": [],
   "source": []
  },
  {
   "cell_type": "markdown",
   "metadata": {},
   "source": [
    "### Include as few DMSO wells per plate"
   ]
  },
  {
   "cell_type": "code",
   "execution_count": null,
   "metadata": {},
   "outputs": [],
   "source": [
    "path = \"/storage/user/datasets/large-Cell-Painting-Dataset/datasets/CPG0004/top20_moa_with_norm_cropped.csv\"\n",
    "datainfo = pd.read_csv(path, index_col=0, engine='python')"
   ]
  },
  {
   "cell_type": "code",
   "execution_count": null,
   "metadata": {},
   "outputs": [],
   "source": [
    "\n",
    "path = \"/storage/user/datasets/large-Cell-Painting-Dataset/datasets/CPG0004/full_set_training_large_.csv\"\n",
    "datainfo_full = pd.read_csv(path, index_col=0, engine='python')"
   ]
  },
  {
   "cell_type": "code",
   "execution_count": null,
   "metadata": {},
   "outputs": [],
   "source": [
    "datainfo"
   ]
  },
  {
   "cell_type": "code",
   "execution_count": null,
   "metadata": {},
   "outputs": [],
   "source": [
    "datainfo.Treatment.nunique()"
   ]
  },
  {
   "cell_type": "code",
   "execution_count": null,
   "metadata": {},
   "outputs": [],
   "source": [
    "subset = datainfo_full[datainfo_full.Unique_well.isin(datainfo.Unique_well.unique())]"
   ]
  },
  {
   "cell_type": "code",
   "execution_count": null,
   "metadata": {},
   "outputs": [],
   "source": [
    "(subset[[\"Metadata_Plate\", \"Split\"]].drop_duplicates().Split == \"Test\").sum()"
   ]
  },
  {
   "cell_type": "code",
   "execution_count": null,
   "metadata": {},
   "outputs": [],
   "source": [
    "plates = subset[subset.Split == \"Test\"].Metadata_Plate.unique()"
   ]
  },
  {
   "cell_type": "code",
   "execution_count": null,
   "metadata": {},
   "outputs": [],
   "source": [
    "datainfo_full[(datainfo_full.Metadata_Plate.isin(plates)) & (datainfo_full.Metadata_broad_sample == \"DMSO\")]"
   ]
  },
  {
   "cell_type": "code",
   "execution_count": null,
   "metadata": {},
   "outputs": [],
   "source": [
    "datainfo_full[(datainfo_full.Metadata_broad_sample == \"DMSO\")]"
   ]
  },
  {
   "cell_type": "code",
   "execution_count": null,
   "metadata": {},
   "outputs": [],
   "source": [
    "subset = datainfo_full[datainfo_full.Treatment.isin(datainfo.Treatment.unique())]"
   ]
  },
  {
   "cell_type": "code",
   "execution_count": null,
   "metadata": {},
   "outputs": [],
   "source": [
    "subset"
   ]
  },
  {
   "cell_type": "code",
   "execution_count": null,
   "metadata": {},
   "outputs": [],
   "source": [
    "dmso_subset = subset[subset.Metadata_broad_sample == \"DMSO\"].sample(2000)"
   ]
  },
  {
   "cell_type": "code",
   "execution_count": null,
   "metadata": {},
   "outputs": [],
   "source": [
    "subset_without_dmso = subset[subset.Metadata_broad_sample != \"DMSO\"]"
   ]
  },
  {
   "cell_type": "code",
   "execution_count": null,
   "metadata": {},
   "outputs": [],
   "source": [
    "dmso_subset.shape"
   ]
  },
  {
   "cell_type": "code",
   "execution_count": null,
   "metadata": {},
   "outputs": [],
   "source": [
    "subset_without_dmso.shape"
   ]
  },
  {
   "cell_type": "code",
   "execution_count": null,
   "metadata": {},
   "outputs": [],
   "source": [
    "dmso_enriched_subset = pd.concat([subset_without_dmso, dmso_subset])"
   ]
  },
  {
   "cell_type": "code",
   "execution_count": null,
   "metadata": {},
   "outputs": [],
   "source": [
    "dmso_enriched_subset.groupby(\"Metadata_moa_ID\").ngroup()"
   ]
  },
  {
   "cell_type": "code",
   "execution_count": null,
   "metadata": {},
   "outputs": [],
   "source": [
    "dmso_enriched_subset[\"Metadata_moa_ID\"] = dmso_enriched_subset.groupby(\"Metadata_moa_ID\").ngroup()"
   ]
  },
  {
   "cell_type": "code",
   "execution_count": null,
   "metadata": {},
   "outputs": [],
   "source": [
    "dmso_enriched_subset[\"Treatment_ID\"] = dmso_enriched_subset.groupby(\"Treatment_ID\").ngroup()"
   ]
  },
  {
   "cell_type": "code",
   "execution_count": null,
   "metadata": {},
   "outputs": [],
   "source": [
    "dmso_enriched_subset.groupby(\"Metadata_moa_ID\").ngroup()"
   ]
  },
  {
   "cell_type": "markdown",
   "metadata": {},
   "source": [
    "# Number of different treatments"
   ]
  },
  {
   "cell_type": "code",
   "execution_count": null,
   "metadata": {},
   "outputs": [],
   "source": [
    "dmso_enriched_subset.Treatment_ID.nunique()"
   ]
  },
  {
   "cell_type": "markdown",
   "metadata": {},
   "source": [
    "# Number of different MoAs"
   ]
  },
  {
   "cell_type": "code",
   "execution_count": null,
   "metadata": {},
   "outputs": [],
   "source": [
    "dmso_enriched_subset.Metadata_moa_ID.nunique()"
   ]
  },
  {
   "cell_type": "code",
   "execution_count": null,
   "metadata": {},
   "outputs": [],
   "source": [
    "dmso_enriched_subset.to_csv(\"/storage/user/datasets/large-Cell-Painting-Dataset/datasets/CPG0004/top50_moa_with_dmso.csv\")"
   ]
  }
 ],
 "metadata": {
  "kernelspec": {
   "display_name": "Python 2.7.17 64-bit",
   "language": "python",
   "name": "python3"
  },
  "language_info": {
   "codemirror_mode": {
    "name": "ipython",
    "version": 3
   },
   "file_extension": ".py",
   "mimetype": "text/x-python",
   "name": "python",
   "nbconvert_exporter": "python",
   "pygments_lexer": "ipython3",
   "version": "2.7.17"
  },
  "vscode": {
   "interpreter": {
    "hash": "767d51c1340bd893661ea55ea3124f6de3c7a262a8b4abca0554b478b1e2ff90"
   }
  }
 },
 "nbformat": 4,
 "nbformat_minor": 2
}
